{
 "cells": [
  {
   "cell_type": "code",
   "execution_count": 2,
   "id": "1aafd331",
   "metadata": {},
   "outputs": [],
   "source": [
    "import nltk\n",
    "from nltk import word_tokenize"
   ]
  },
  {
   "cell_type": "code",
   "execution_count": 3,
   "id": "c4d24271",
   "metadata": {},
   "outputs": [],
   "source": [
    "text = \"And now for something completely different\""
   ]
  },
  {
   "cell_type": "code",
   "execution_count": 4,
   "id": "d11891e5",
   "metadata": {},
   "outputs": [],
   "source": [
    "words = word_tokenize(text)"
   ]
  },
  {
   "cell_type": "code",
   "execution_count": 5,
   "id": "440f7880",
   "metadata": {},
   "outputs": [
    {
     "data": {
      "text/plain": [
       "[('And', 'CC'),\n",
       " ('now', 'RB'),\n",
       " ('for', 'IN'),\n",
       " ('something', 'NN'),\n",
       " ('completely', 'RB'),\n",
       " ('different', 'JJ')]"
      ]
     },
     "execution_count": 5,
     "metadata": {},
     "output_type": "execute_result"
    }
   ],
   "source": [
    "nltk.pos_tag(words)"
   ]
  },
  {
   "cell_type": "code",
   "execution_count": 6,
   "id": "11d5226e",
   "metadata": {},
   "outputs": [],
   "source": [
    "text2 = word_tokenize(\"They refuse to permit us to obtain the permit\")\n"
   ]
  },
  {
   "cell_type": "code",
   "execution_count": 7,
   "id": "eaac138c",
   "metadata": {},
   "outputs": [
    {
     "data": {
      "text/plain": [
       "[('They', 'PRP'),\n",
       " ('refuse', 'VBP'),\n",
       " ('to', 'TO'),\n",
       " ('permit', 'VB'),\n",
       " ('us', 'PRP'),\n",
       " ('to', 'TO'),\n",
       " ('obtain', 'VB'),\n",
       " ('the', 'DT'),\n",
       " ('permit', 'NN')]"
      ]
     },
     "execution_count": 7,
     "metadata": {},
     "output_type": "execute_result"
    }
   ],
   "source": [
    "nltk.pos_tag(text2)"
   ]
  },
  {
   "cell_type": "code",
   "execution_count": 8,
   "id": "c5bd9312",
   "metadata": {},
   "outputs": [],
   "source": [
    "text3 = nltk.Text(word.lower() for word in nltk.corpus.brown.words())"
   ]
  },
  {
   "cell_type": "code",
   "execution_count": 9,
   "id": "eb0ac2dc",
   "metadata": {},
   "outputs": [
    {
     "data": {
      "text/plain": [
       "<Text: the fulton county grand jury said friday an...>"
      ]
     },
     "execution_count": 9,
     "metadata": {},
     "output_type": "execute_result"
    }
   ],
   "source": [
    "text3"
   ]
  },
  {
   "cell_type": "code",
   "execution_count": 10,
   "id": "6731b083",
   "metadata": {},
   "outputs": [
    {
     "name": "stdout",
     "output_type": "stream",
     "text": [
      "man time day year car moment world house family child country boy\n",
      "state job place way war girl work word\n"
     ]
    }
   ],
   "source": [
    "text3.similar('woman')"
   ]
  },
  {
   "cell_type": "code",
   "execution_count": 11,
   "id": "ae866200",
   "metadata": {},
   "outputs": [
    {
     "name": "stdout",
     "output_type": "stream",
     "text": [
      "made said done put had seen found given left heard was been brought\n",
      "set got that took in told felt\n"
     ]
    }
   ],
   "source": [
    "text3.similar('bought')"
   ]
  },
  {
   "cell_type": "code",
   "execution_count": 12,
   "id": "a8a2a451",
   "metadata": {},
   "outputs": [
    {
     "name": "stdout",
     "output_type": "stream",
     "text": [
      "in on to of and for with from at by that into as up out down through\n",
      "is all about\n"
     ]
    }
   ],
   "source": [
    "text3.similar('over')"
   ]
  },
  {
   "cell_type": "code",
   "execution_count": 13,
   "id": "f3d8cebe",
   "metadata": {},
   "outputs": [
    {
     "name": "stdout",
     "output_type": "stream",
     "text": [
      "a his this their its her an that our any all one these my in your no\n",
      "some other and\n"
     ]
    }
   ],
   "source": [
    "text3.similar('the')"
   ]
  },
  {
   "cell_type": "markdown",
   "id": "45d32a64",
   "metadata": {},
   "source": [
    "# Corpora etiquetados\n",
    "Un corpora etiquetado consiste en un string donde cada palabra viene acompañada de su etiqueta POS"
   ]
  },
  {
   "cell_type": "code",
   "execution_count": 14,
   "id": "ff59bb1a",
   "metadata": {},
   "outputs": [],
   "source": [
    "sent = '''\n",
    "... The/AT grand/JJ jury/NN commented/VBD on/IN a/AT number/NN of/IN\n",
    "... other/AP topics/NNS ,/, AMONG/IN them/PPO the/AT Atlanta/NP and/CC\n",
    "... Fulton/NP-tl County/NN-tl purchasing/VBG departments/NNS which/WDT it/PPS\n",
    "... said/VBD ``/`` ARE/BER well/QL operated/VBN and/CC follow/VB generally/RB\n",
    "... accepted/VBN practices/NNS which/WDT inure/VB to/IN the/AT best/JJT\n",
    "... interest/NN of/IN both/ABX governments/NNS ''/'' ./.\n",
    "... '''"
   ]
  },
  {
   "cell_type": "code",
   "execution_count": 15,
   "id": "f4147e32",
   "metadata": {},
   "outputs": [
    {
     "data": {
      "text/plain": [
       "[('The', 'AT'),\n",
       " ('grand', 'JJ'),\n",
       " ('jury', 'NN'),\n",
       " ('commented', 'VBD'),\n",
       " ('on', 'IN'),\n",
       " ('a', 'AT'),\n",
       " ('number', 'NN'),\n",
       " ('of', 'IN'),\n",
       " ('other', 'AP'),\n",
       " ('topics', 'NNS'),\n",
       " (',', ','),\n",
       " ('AMONG', 'IN'),\n",
       " ('them', 'PPO'),\n",
       " ('the', 'AT'),\n",
       " ('Atlanta', 'NP'),\n",
       " ('and', 'CC'),\n",
       " ('Fulton', 'NP-TL'),\n",
       " ('County', 'NN-TL'),\n",
       " ('purchasing', 'VBG'),\n",
       " ('departments', 'NNS'),\n",
       " ('which', 'WDT'),\n",
       " ('it', 'PPS'),\n",
       " ('said', 'VBD'),\n",
       " ('``', '``'),\n",
       " ('ARE', 'BER'),\n",
       " ('well', 'QL'),\n",
       " ('operated', 'VBN'),\n",
       " ('and', 'CC'),\n",
       " ('follow', 'VB'),\n",
       " ('generally', 'RB'),\n",
       " ('accepted', 'VBN'),\n",
       " ('practices', 'NNS'),\n",
       " ('which', 'WDT'),\n",
       " ('inure', 'VB'),\n",
       " ('to', 'IN'),\n",
       " ('the', 'AT'),\n",
       " ('best', 'JJT'),\n",
       " ('interest', 'NN'),\n",
       " ('of', 'IN'),\n",
       " ('both', 'ABX'),\n",
       " ('governments', 'NNS'),\n",
       " (\"''\", \"''\"),\n",
       " ('.', '.')]"
      ]
     },
     "execution_count": 15,
     "metadata": {},
     "output_type": "execute_result"
    }
   ],
   "source": [
    "# la función str2tuple nos permite separar un string en una tupla (palabra, etiqueta)\n",
    "[nltk.tag.str2tuple(t) for t in sent.split()]"
   ]
  },
  {
   "cell_type": "code",
   "execution_count": 16,
   "id": "ad2c24b1",
   "metadata": {},
   "outputs": [
    {
     "data": {
      "text/plain": [
       "[('The', 'AT'), ('Fulton', 'NP-TL'), ...]"
      ]
     },
     "execution_count": 16,
     "metadata": {},
     "output_type": "execute_result"
    }
   ],
   "source": [
    "#nltk nos permite leer los corpora ya etiquetados y manipularlos fácilmente\n",
    "nltk.corpus.brown.tagged_words()"
   ]
  },
  {
   "cell_type": "code",
   "execution_count": 25,
   "id": "b451dd65",
   "metadata": {},
   "outputs": [
    {
     "data": {
      "text/plain": [
       "[('The', 'DET'), ('Fulton', 'NOUN'), ...]"
      ]
     },
     "execution_count": 25,
     "metadata": {},
     "output_type": "execute_result"
    }
   ],
   "source": [
    "#La función tagged_words nos permite usar differentes conjuntos de etiquetas\n",
    "nltk.corpus.brown.tagged_words(tagset='universal')"
   ]
  },
  {
   "cell_type": "code",
   "execution_count": 18,
   "id": "8b1bd16f",
   "metadata": {},
   "outputs": [
    {
     "data": {
      "text/plain": [
       "[('Pierre', 'NOUN'), ('Vinken', 'NOUN'), (',', '.'), ...]"
      ]
     },
     "execution_count": 18,
     "metadata": {},
     "output_type": "execute_result"
    }
   ],
   "source": [
    "nltk.corpus.treebank.tagged_words(tagset='universal')"
   ]
  },
  {
   "cell_type": "code",
   "execution_count": 19,
   "id": "93fa5253",
   "metadata": {},
   "outputs": [],
   "source": [
    "#Cuáles son las etiquetas más comunes en un corpus\n",
    "from nltk.corpus import brown"
   ]
  },
  {
   "cell_type": "code",
   "execution_count": 21,
   "id": "8ae05b5d",
   "metadata": {},
   "outputs": [],
   "source": [
    "brown_news_tagged = brown.tagged_words(categories='news', tagset='universal')"
   ]
  },
  {
   "cell_type": "code",
   "execution_count": 22,
   "id": "5971ec83",
   "metadata": {},
   "outputs": [],
   "source": [
    "tag_fd = nltk.FreqDist(tag for (word,tag) in brown_news_tagged)"
   ]
  },
  {
   "cell_type": "code",
   "execution_count": 23,
   "id": "8f76f31c",
   "metadata": {},
   "outputs": [
    {
     "data": {
      "text/plain": [
       "[('NOUN', 30654),\n",
       " ('VERB', 14399),\n",
       " ('ADP', 12355),\n",
       " ('.', 11928),\n",
       " ('DET', 11389),\n",
       " ('ADJ', 6706),\n",
       " ('ADV', 3349),\n",
       " ('CONJ', 2717),\n",
       " ('PRON', 2535),\n",
       " ('PRT', 2264),\n",
       " ('NUM', 2166),\n",
       " ('X', 92)]"
      ]
     },
     "execution_count": 23,
     "metadata": {},
     "output_type": "execute_result"
    }
   ],
   "source": [
    "tag_fd.most_common()"
   ]
  },
  {
   "cell_type": "markdown",
   "id": "218e3efa",
   "metadata": {},
   "source": [
    "# EJERCICIO:\n",
    "\n",
    "**Haz un gráfico de frecuencia acumulada de la distribución de frecuencia que acabamos de construir**"
   ]
  },
  {
   "cell_type": "code",
   "execution_count": 24,
   "id": "da7b092d",
   "metadata": {},
   "outputs": [
    {
     "data": {
      "image/png": "[encoded data removed]",
      "text/plain": [
       "<Figure size 1000x600 with 1 Axes>"
      ]
     },
     "metadata": {},
     "output_type": "display_data"
    }
   ],
   "source": [
    "import matplotlib.pyplot as plt\n",
    "\n",
    "# Los datos proporcionados\n",
    "data = [('NOUN', 30654),\n",
    "        ('VERB', 14399),\n",
    "        ('ADP', 12355),\n",
    "        ('.', 11928),\n",
    "        ('DET', 11389),\n",
    "        ('ADJ', 6706),\n",
    "        ('ADV', 3349),\n",
    "        ('CONJ', 2717),\n",
    "        ('PRON', 2535),\n",
    "        ('PRT', 2264),\n",
    "        ('NUM', 2166),\n",
    "        ('X', 92)]\n",
    "\n",
    "# Calcular la frecuencia acumulada\n",
    "cumulative_freq = [data[0][1]]\n",
    "for i in range(1, len(data)):\n",
    "    cumulative_freq.append(cumulative_freq[-1] + data[i][1])\n",
    "\n",
    "# Categorías gramaticales\n",
    "categories = [item[0] for item in data]\n",
    "\n",
    "# Gráfico de frecuencia acumulada\n",
    "plt.figure(figsize=(10, 6))\n",
    "plt.barh(categories, cumulative_freq, color='skyblue')\n",
    "plt.xlabel('Frecuencia Acumulada')\n",
    "plt.ylabel('Categorías Gramaticales')\n",
    "plt.title('Gráfico de Frecuencia Acumulada de Categorías Gramaticales')\n",
    "plt.grid(axis='x', linestyle='--', alpha=0.6)\n",
    "plt.gca().invert_yaxis()  # Invertir el eje y para mostrar la categoría más frecuente en la parte superior\n",
    "plt.show()\n"
   ]
  },
  {
   "cell_type": "code",
   "execution_count": null,
   "id": "e942bcd6",
   "metadata": {},
   "outputs": [],
   "source": [
    "#POS tagging nos permite buscar y encontrar \"el contexto\" en el que aparecen algunas palabras\n",
    "\n",
    "word_tag_pairs = nltk.bigrams(brown_news_tagged)"
   ]
  },
  {
   "cell_type": "code",
   "execution_count": null,
   "id": "ee0ff1f2",
   "metadata": {},
   "outputs": [],
   "source": [
    "noun_preceders = [a[1] for (a,b) in word_tag_pairs if b[1]== 'NOUN']"
   ]
  },
  {
   "cell_type": "code",
   "execution_count": null,
   "id": "6b05b96b",
   "metadata": {},
   "outputs": [],
   "source": [
    "noun_preceders"
   ]
  },
  {
   "cell_type": "code",
   "execution_count": null,
   "id": "06907fab",
   "metadata": {},
   "outputs": [],
   "source": [
    "fdist = nltk.FreqDist(noun_preceders)\n",
    "fdist.most_common()"
   ]
  },
  {
   "cell_type": "code",
   "execution_count": null,
   "id": "7d27f0d4",
   "metadata": {},
   "outputs": [],
   "source": [
    "# Podemos encontrar los verbos más comunes en un corpora\n",
    "wsj = nltk.corpus.treebank.tagged_words(tagset='universal')\n",
    "word_tag_fd = nltk.FreqDist(wsj)\n",
    "[wt[0] for (wt,_) in word_tag_fd.most_common() if wt[1] == 'VERB']"
   ]
  },
  {
   "cell_type": "code",
   "execution_count": null,
   "id": "7fd78488",
   "metadata": {},
   "outputs": [],
   "source": [
    "#Podemos usar el primer elemento en el par (word, tag) como una condición para crear una\n",
    "#distribución de frecuecia condicional\n",
    "cfd1 = nltk.ConditionalFreqDist(wsj)"
   ]
  },
  {
   "cell_type": "code",
   "execution_count": null,
   "id": "5d9ef08a",
   "metadata": {},
   "outputs": [],
   "source": [
    "cfd1['yield'].most_common()"
   ]
  },
  {
   "cell_type": "code",
   "execution_count": null,
   "id": "948f02cb",
   "metadata": {},
   "outputs": [],
   "source": [
    "cfd1['cut'].most_common()"
   ]
  },
  {
   "cell_type": "code",
   "execution_count": null,
   "id": "b7febb3b",
   "metadata": {},
   "outputs": [],
   "source": [
    "# si ordenamos los pares al revés (tag, word) podemos ver\n",
    "# qué palabras son las más usuales para una etiqueta\n",
    "wsj = nltk.corpus.treebank.tagged_words()\n",
    "cfd2 = nltk.ConditionalFreqDist((tag,word) for (word,tag) in wsj)\n",
    "list(cfd2['VBN'])"
   ]
  },
  {
   "cell_type": "code",
   "execution_count": null,
   "id": "f1550cc9",
   "metadata": {},
   "outputs": [],
   "source": [
    "cfd3 = nltk.ConditionalFreqDist(wsj)"
   ]
  },
  {
   "cell_type": "code",
   "execution_count": null,
   "id": "850fa79c",
   "metadata": {},
   "outputs": [],
   "source": [
    "# Qué verbos se escriben igual en pasado y en participio pasado\n",
    "\n",
    "[w for w in cfd3.conditions() if 'VBD' in cfd3[w] and 'VBN' in cfd3[w]]"
   ]
  },
  {
   "cell_type": "code",
   "execution_count": null,
   "id": "13645997",
   "metadata": {},
   "outputs": [],
   "source": [
    "cfd3['named'].most_common()"
   ]
  },
  {
   "cell_type": "code",
   "execution_count": null,
   "id": "6dc5de59",
   "metadata": {},
   "outputs": [],
   "source": [
    "# Podemos examinar \"el contexto\" de los verbos que se escriben igual en pasado que en participio pasado\n",
    "\n",
    "idx1 = wsj.index(('kicked','VBD'))\n",
    "wsj[idx1-4:idx1+2]"
   ]
  },
  {
   "cell_type": "code",
   "execution_count": null,
   "id": "c1f9b5a6",
   "metadata": {},
   "outputs": [],
   "source": [
    "idx2 = wsj.index(('kicked','VBN'))\n",
    "wsj[idx2-4:idx2+2]"
   ]
  },
  {
   "cell_type": "markdown",
   "id": "c2fb52c0",
   "metadata": {},
   "source": [
    "# EJERCICIO:\n",
    "\n",
    "**Repite este proceso para 'named', 'used' y 'caused'**\n",
    "\n",
    "***¿Qué conclusiones podemos obtener?***"
   ]
  },
  {
   "cell_type": "code",
   "execution_count": null,
   "id": "92b5a5da",
   "metadata": {},
   "outputs": [],
   "source": [
    "# Podemos encontrar las diferentes categorías de sustantivos usando un tagset más elaborado\n",
    "\n",
    "def findtags(tag_prefix, tagged_text):\n",
    "    cfd = nltk.ConditionalFreqDist((tag,word) for (word, tag) in tagged_text\n",
    "                                  if tag.startswith(tag_prefix))\n",
    "    return dict((tag,cfd[tag].most_common(5)) for tag in cfd.conditions())"
   ]
  },
  {
   "cell_type": "code",
   "execution_count": null,
   "id": "2cf6f576",
   "metadata": {},
   "outputs": [],
   "source": [
    "tagdict = findtags('NN', nltk.corpus.brown.tagged_words(categories='news'))"
   ]
  },
  {
   "cell_type": "code",
   "execution_count": null,
   "id": "5bc06b4c",
   "metadata": {},
   "outputs": [],
   "source": [
    "for tag in sorted(tagdict):\n",
    "    print(tag,tagdict[tag])"
   ]
  },
  {
   "cell_type": "code",
   "execution_count": null,
   "id": "c301914c",
   "metadata": {},
   "outputs": [],
   "source": [
    "# podemos explorar cómo se usan algunas palabras en un corpus\n",
    "brown_learned_text = brown.words(categories='learned')"
   ]
  },
  {
   "cell_type": "code",
   "execution_count": null,
   "id": "1305c3ae",
   "metadata": {},
   "outputs": [],
   "source": [
    "sorted(set(b for (a,b) in nltk.bigrams(brown_learned_text) if a == 'often'))"
   ]
  },
  {
   "cell_type": "code",
   "execution_count": null,
   "id": "ddc11eae",
   "metadata": {},
   "outputs": [],
   "source": [
    "# las etiquetas hacen más fácil esta tarea\n",
    "brown_lrnd_tagged = brown.tagged_words(categories='learned',tagset='universal')"
   ]
  },
  {
   "cell_type": "code",
   "execution_count": null,
   "id": "79149dd9",
   "metadata": {},
   "outputs": [],
   "source": [
    "tags = [ b[1] for (a,b) in nltk.bigrams(brown_lrnd_tagged) if a[0] == 'often']"
   ]
  },
  {
   "cell_type": "code",
   "execution_count": null,
   "id": "87b81d63",
   "metadata": {},
   "outputs": [],
   "source": [
    "fd = nltk.FreqDist(tags)\n",
    "fd.tabulate()"
   ]
  },
  {
   "cell_type": "code",
   "execution_count": null,
   "id": "d8bc686e",
   "metadata": {},
   "outputs": [],
   "source": [
    "# Buscamos frases con la forma 'VERB' to 'VERB'\n",
    "\n",
    "from nltk.corpus import brown\n",
    "def process(sentence):\n",
    "    for (w1,t1), (w2,t2), (w3,t3) in nltk.trigrams(sentence): \n",
    "        if (t1.startswith('V') and t2 == 'TO' and t3.startswith('V')):\n",
    "            print(w1, w2, w3)"
   ]
  },
  {
   "cell_type": "code",
   "execution_count": null,
   "id": "7d9edf37",
   "metadata": {},
   "outputs": [],
   "source": [
    "for tagged_sent in brown.tagged_sents():\n",
    "    process(tagged_sent)"
   ]
  },
  {
   "cell_type": "code",
   "execution_count": null,
   "id": "3b5cfa2d",
   "metadata": {},
   "outputs": [],
   "source": [
    "# Revisamos algunas palabras que son muy ambiguas en cuanto a su uso dentro del lenguaje\n",
    "# ambiguas significa que pueden tener muchas etiquetas POS diferentes\n",
    "# revisando el contexto de cada etiqueta podemos entender mejor porqué es ambigua cada palabra\n",
    "\n",
    "brown_news_tagged = brown.tagged_words(categories='news', tagset='universal')\n",
    "data = nltk.ConditionalFreqDist((word.lower(), tag) for (word, tag) in brown_news_tagged)\n",
    "\n",
    "for word in sorted(data.conditions()):\n",
    "    if len(data[word]) > 3:\n",
    "        tags = [tag for (tag, _) in data[word].most_common()]\n",
    "        print(word, ' '.join(tags))"
   ]
  },
  {
   "cell_type": "markdown",
   "id": "6c0b52d3",
   "metadata": {},
   "source": [
    "# EJERCICIO:\n",
    "\n",
    "**Utiliza el índice en la lista de palabras etiquetadas para revisar los contextos donde aparece cada una de las etiquetas de las palabras encontradas**"
   ]
  },
  {
   "cell_type": "code",
   "execution_count": null,
   "id": "7f89281b",
   "metadata": {},
   "outputs": [],
   "source": []
  }
 ],
 "metadata": {
  "kernelspec": {
   "display_name": "Python 3 (ipykernel)",
   "language": "python",
   "name": "python3"
  },
  "language_info": {
   "codemirror_mode": {
    "name": "ipython",
    "version": 3
   },
   "file_extension": ".py",
   "mimetype": "text/x-python",
   "name": "python",
   "nbconvert_exporter": "python",
   "pygments_lexer": "ipython3",
   "version": "3.10.9"
  }
 },
 "nbformat": 4,
 "nbformat_minor": 5
}
