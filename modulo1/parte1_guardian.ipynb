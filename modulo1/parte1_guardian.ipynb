{
 "cells": [
  {
   "cell_type": "code",
   "execution_count": 1,
   "metadata": {
    "id": "-8x6vX8_GyOe"
   },
   "outputs": [],
   "source": [
    "import json\n",
    "import requests\n",
    "import os\n",
    "\n",
    "from os import makedirs\n",
    "from os.path import join, exists\n",
    "from datetime import date, timedelta\n"
   ]
  },
  {
   "cell_type": "code",
   "execution_count": 2,
   "metadata": {
    "id": "yQpy3t4AHEEv"
   },
   "outputs": [],
   "source": [
    "MY_HOME = os.path.expanduser('~')\n",
    "\n",
    "ARTICLES_DIR = join(MY_HOME, 'NLP','tempdate')\n",
    "\n",
    "makedirs(ARTICLES_DIR, exist_ok = True)"
   ]
  },
  {
   "cell_type": "code",
   "execution_count": 3,
   "metadata": {
    "id": "PRFjHaoHHj5Q"
   },
   "outputs": [],
   "source": [
    "MY_API_KEY = 'd712116b-a6ef-4e76-b0e8-93f7c136058d'\n",
    "API_ENDPOINT = 'https://content.guardianapis.com/search'\n",
    "\n",
    "api_params = {\n",
    "    \"from-date\": \"\",\n",
    "    \"to-date\": \"\",\n",
    "    \"order-by\": \"newest\",  # Valid value: 'newest', 'oldest', or 'relevance'\n",
    "    \"show_fields\": \"body_text\",\n",
    "    \"page_size\": 100,\n",
    "    \"api-key\": MY_API_KEY\n",
    "}\n"
   ]
  },
  {
   "cell_type": "code",
   "execution_count": 4,
   "metadata": {
    "id": "-6kSHrDbLMKv"
   },
   "outputs": [],
   "source": [
    "\n",
    "\n",
    "start_date = date(2000, 5, 8)\n",
    "date_str = start_date.strftime(\"%Y-%m-%d\")\n",
    "filename = os.path.join(ARTICLES_DIR, date_str + \".json\")\n"
   ]
  },
  {
   "cell_type": "code",
   "execution_count": 5,
   "metadata": {
    "colab": {
     "base_uri": "https://localhost:8080/"
    },
    "id": "4cYyIr4OL1rt",
    "outputId": "1d1b7d0b-6dd7-4f75-b4d9-860f2eec0314"
   },
   "outputs": [
    {
     "name": "stdout",
     "output_type": "stream",
     "text": [
      "Descargando...2000-05-08\n",
      "...page 1\n",
      "...page 2\n",
      "...page 3\n",
      "...page 4\n",
      "...page 5\n",
      "...page 6\n",
      "...page 7\n",
      "...page 8\n",
      "...page 9\n",
      "...page 10\n",
      "...page 11\n",
      "...page 12\n",
      "...page 13\n",
      "...page 14\n",
      "...page 15\n",
      "...page 16\n",
      "...page 17\n"
     ]
    }
   ],
   "source": [
    "if not exists(filename):\n",
    "  print(\"Descargando...\" + date_str)\n",
    "  resultados = []\n",
    "  api_params['from-date'] = date_str\n",
    "  api_params['to-date'] = date_str\n",
    "\n",
    "  current_page= 1\n",
    "  total_pages = 2\n",
    "\n",
    "  while current_page<=total_pages:\n",
    "    print(\"...page\", current_page)\n",
    "    api_params['page'] = current_page\n",
    "    resp = requests.get(API_ENDPOINT, api_params)\n",
    "    data = resp.json()\n",
    "    resultados.extend(data['response']['results'])\n",
    "    current_page +=1\n",
    "    total_pages = data['response']['pages']\n",
    "\n",
    "\n",
    "\n",
    "\n"
   ]
  },
  {
   "cell_type": "code",
   "execution_count": 6,
   "metadata": {
    "colab": {
     "base_uri": "https://localhost:8080/"
    },
    "id": "pz2wGnNUN-Ju",
    "outputId": "c5348a2f-2327-4b7b-d052-562c2b8fa8d7"
   },
   "outputs": [
    {
     "name": "stdout",
     "output_type": "stream",
     "text": [
      "writing to C:\\Users\\insp3\\NLP\\tempdate\\2000-05-08.json\n"
     ]
    }
   ],
   "source": [
    "with open(filename, 'w') as f:\n",
    "    print('writing to', filename)\n",
    "    f.write(json.dumps(resultados, indent=2))"
   ]
  },
  {
   "cell_type": "markdown",
   "metadata": {
    "id": "V-tqksQMQbr9"
   },
   "source": [
    "parte 2\n",
    "\n",
    "MODIFICAR LA FECHA FINAL PARA BAJAR ARTICULOS EN UN INTERVALO DE TIEMPO\n",
    "\n",
    "LOS ARTICULOS CORRESPONDIENTES A CADA DIA DEBEN ESTAR ALMACENDOS EN SU PROPIO ARCHIVO DE NOMBRE YYY-MM-DD.JSON"
   ]
  },
  {
   "cell_type": "code",
   "execution_count": null,
   "metadata": {
    "id": "uRfsD8OKQejS"
   },
   "outputs": [],
   "source": [
    "minimo 5 dias"
   ]
  },
  {
   "cell_type": "code",
   "execution_count": null,
   "metadata": {
    "id": "MnzQd7HyQelj"
   },
   "outputs": [],
   "source": []
  },
  {
   "cell_type": "code",
   "execution_count": null,
   "metadata": {
    "id": "Vxak1AiYQenv"
   },
   "outputs": [],
   "source": []
  },
  {
   "cell_type": "code",
   "execution_count": null,
   "metadata": {
    "id": "6q7s2La3QeqC"
   },
   "outputs": [],
   "source": []
  },
  {
   "cell_type": "code",
   "execution_count": null,
   "metadata": {
    "id": "U6RiiWY1Qeto"
   },
   "outputs": [],
   "source": []
  }
 ],
 "metadata": {
  "colab": {
   "provenance": []
  },
  "kernelspec": {
   "display_name": "Python 3 (ipykernel)",
   "language": "python",
   "name": "python3"
  },
  "language_info": {
   "codemirror_mode": {
    "name": "ipython",
    "version": 3
   },
   "file_extension": ".py",
   "mimetype": "text/x-python",
   "name": "python",
   "nbconvert_exporter": "python",
   "pygments_lexer": "ipython3",
   "version": "3.10.9"
  }
 },
 "nbformat": 4,
 "nbformat_minor": 1
}
